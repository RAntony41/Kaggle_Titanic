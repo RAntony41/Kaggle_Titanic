{
 "cells": [
  {
   "cell_type": "code",
   "execution_count": null,
   "metadata": {},
   "outputs": [],
   "source": [
    "import pandas as pd\n",
    "import numpy as np\n",
    "import os"
   ]
  },
  {
   "cell_type": "code",
   "execution_count": null,
   "metadata": {},
   "outputs": [],
   "source": [
    "train_data = pd.read_csv(r\"D:\\Programming\\kaggle\\Titanic\\train.csv\")\n",
    "test_data = pd.read_csv(r\"D:\\Programming\\kaggle\\Titanic\\test.csv\")\n",
    "gender_data = pd.read_csv(r\"D:\\Programming\\kaggle\\Titanic\\gender_submission.csv\")"
   ]
  },
  {
   "cell_type": "code",
   "execution_count": null,
   "metadata": {},
   "outputs": [],
   "source": [
    "print(\"train_data\",train_data.shape)\n",
    "print(\"test_data\",test_data.shape)\n",
    "print(\"gender_data\",gender_data.shape)"
   ]
  }
 ],
 "metadata": {
  "kernelspec": {
   "display_name": "env_ImageProcessing",
   "language": "python",
   "name": "python3"
  },
  "language_info": {
   "name": "python",
   "version": "3.11.5"
  }
 },
 "nbformat": 4,
 "nbformat_minor": 2
}
